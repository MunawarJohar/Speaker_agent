{
 "cells": [
  {
   "cell_type": "code",
   "execution_count": 7,
   "id": "61b13f4c",
   "metadata": {},
   "outputs": [],
   "source": [
    "import pyttsx3"
   ]
  },
  {
   "cell_type": "code",
   "execution_count": null,
   "id": "90c0e3ac",
   "metadata": {},
   "outputs": [],
   "source": [
    "read=pyttsx3.init()\n",
    "read.say(\"Hello every one my name is munawar johar i am a python developer what's about you.\")\n",
    "read.say(\"Please type the text about your profession\")\n",
    "read.runAndWait()\n",
    "text=input(\"Please Input the text here :\")\n",
    "read.say(text)\n",
    "f=open(\"munawar.txt\",\"a\")\n",
    "f.write(text)\n",
    "read.say(\"Thank you for your support and giving time.\")\n",
    "f.close()\n"
   ]
  },
  {
   "cell_type": "code",
   "execution_count": 6,
   "id": "8ccabd20",
   "metadata": {},
   "outputs": [],
   "source": [
    "read.runAndWait()"
   ]
  },
  {
   "cell_type": "code",
   "execution_count": null,
   "id": "e131542b",
   "metadata": {},
   "outputs": [],
   "source": []
  },
  {
   "cell_type": "code",
   "execution_count": null,
   "id": "2a27d65d",
   "metadata": {},
   "outputs": [],
   "source": []
  },
  {
   "cell_type": "code",
   "execution_count": null,
   "id": "91e46107",
   "metadata": {},
   "outputs": [],
   "source": []
  }
 ],
 "metadata": {
  "kernelspec": {
   "display_name": "Python 3 (ipykernel)",
   "language": "python",
   "name": "python3"
  },
  "language_info": {
   "codemirror_mode": {
    "name": "ipython",
    "version": 3
   },
   "file_extension": ".py",
   "mimetype": "text/x-python",
   "name": "python",
   "nbconvert_exporter": "python",
   "pygments_lexer": "ipython3",
   "version": "3.10.4"
  }
 },
 "nbformat": 4,
 "nbformat_minor": 5
}
